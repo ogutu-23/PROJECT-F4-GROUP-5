{
 "cells": [
  {
   "cell_type": "code",
   "execution_count": 88,
   "metadata": {},
   "outputs": [],
   "source": [
    "# Import the necessary libraries\n",
    "import pandas as pd\n",
    "import os"
   ]
  },
  {
   "cell_type": "code",
   "execution_count": 89,
   "metadata": {},
   "outputs": [],
   "source": [
    "# Loading the datasets\n",
    "# Define the file paths\n",
    "restaurant_data_path= r\"C:\\Users\\Administrator\\Downloads\\restaurants.csv\"\n",
    "review_data_path= r\"C:\\Users\\Administrator\\Downloads\\Restaurant reviews.csv\\Restaurant reviews.csv\"\n",
    "\n",
    "# Use pandas to load the files\n",
    "restaurant_data= pd.read_csv(restaurant_data_path, encoding='ISO-8859-1')\n",
    "review_data= pd.read_csv(review_data_path)"
   ]
  },
  {
   "cell_type": "markdown",
   "metadata": {},
   "source": [
    "### restaurant data\n",
    "Exploring and cleaning restaurant Data\n"
   ]
  },
  {
   "cell_type": "code",
   "execution_count": 90,
   "metadata": {},
   "outputs": [
    {
     "data": {
      "text/html": [
       "<div>\n",
       "<style scoped>\n",
       "    .dataframe tbody tr th:only-of-type {\n",
       "        vertical-align: middle;\n",
       "    }\n",
       "\n",
       "    .dataframe tbody tr th {\n",
       "        vertical-align: top;\n",
       "    }\n",
       "\n",
       "    .dataframe thead th {\n",
       "        text-align: right;\n",
       "    }\n",
       "</style>\n",
       "<table border=\"1\" class=\"dataframe\">\n",
       "  <thead>\n",
       "    <tr style=\"text-align: right;\">\n",
       "      <th></th>\n",
       "      <th>business_id</th>\n",
       "      <th>name</th>\n",
       "      <th>address</th>\n",
       "      <th>city</th>\n",
       "      <th>state</th>\n",
       "      <th>postal_code</th>\n",
       "      <th>latitude</th>\n",
       "      <th>longitude</th>\n",
       "      <th>stars</th>\n",
       "      <th>review_count</th>\n",
       "      <th>is_open</th>\n",
       "      <th>attributes</th>\n",
       "      <th>categories</th>\n",
       "      <th>hours</th>\n",
       "    </tr>\n",
       "  </thead>\n",
       "  <tbody>\n",
       "    <tr>\n",
       "      <th>0</th>\n",
       "      <td>MTSW4McQd7CbVtyjqoe9mw</td>\n",
       "      <td>St Honore Pastries</td>\n",
       "      <td>935 Race St</td>\n",
       "      <td>Philadelphia</td>\n",
       "      <td>PA</td>\n",
       "      <td>19107</td>\n",
       "      <td>39.955505</td>\n",
       "      <td>-75.155564</td>\n",
       "      <td>4.0</td>\n",
       "      <td>80</td>\n",
       "      <td>1</td>\n",
       "      <td>{'RestaurantsDelivery': 'False', 'OutdoorSeati...</td>\n",
       "      <td>Restaurants, Food, Bubble Tea, Coffee &amp; Tea, B...</td>\n",
       "      <td>{'Monday': '7:0-20:0', 'Tuesday': '7:0-20:0', ...</td>\n",
       "    </tr>\n",
       "    <tr>\n",
       "      <th>1</th>\n",
       "      <td>CF33F8-E6oudUQ46HnavjQ</td>\n",
       "      <td>Sonic Drive-In</td>\n",
       "      <td>615 S Main St</td>\n",
       "      <td>Ashland City</td>\n",
       "      <td>TN</td>\n",
       "      <td>37015</td>\n",
       "      <td>36.269593</td>\n",
       "      <td>-87.058943</td>\n",
       "      <td>2.0</td>\n",
       "      <td>6</td>\n",
       "      <td>1</td>\n",
       "      <td>{'BusinessParking': 'None', 'BusinessAcceptsCr...</td>\n",
       "      <td>Burgers, Fast Food, Sandwiches, Food, Ice Crea...</td>\n",
       "      <td>{'Monday': '0:0-0:0', 'Tuesday': '6:0-22:0', '...</td>\n",
       "    </tr>\n",
       "    <tr>\n",
       "      <th>2</th>\n",
       "      <td>k0hlBqXX-Bt0vf1op7Jr1w</td>\n",
       "      <td>Tsevi's Pub And Grill</td>\n",
       "      <td>8025 Mackenzie Rd</td>\n",
       "      <td>Affton</td>\n",
       "      <td>MO</td>\n",
       "      <td>63123</td>\n",
       "      <td>38.565165</td>\n",
       "      <td>-90.321087</td>\n",
       "      <td>3.0</td>\n",
       "      <td>19</td>\n",
       "      <td>0</td>\n",
       "      <td>{'Caters': 'True', 'Alcohol': \"u'full_bar'\", '...</td>\n",
       "      <td>Pubs, Restaurants, Italian, Bars, American (Tr...</td>\n",
       "      <td>NaN</td>\n",
       "    </tr>\n",
       "    <tr>\n",
       "      <th>3</th>\n",
       "      <td>bBDDEgkFA1Otx9Lfe7BZUQ</td>\n",
       "      <td>Sonic Drive-In</td>\n",
       "      <td>2312 Dickerson Pike</td>\n",
       "      <td>Nashville</td>\n",
       "      <td>TN</td>\n",
       "      <td>37207</td>\n",
       "      <td>36.208102</td>\n",
       "      <td>-86.768170</td>\n",
       "      <td>1.5</td>\n",
       "      <td>10</td>\n",
       "      <td>1</td>\n",
       "      <td>{'RestaurantsAttire': \"'casual'\", 'Restaurants...</td>\n",
       "      <td>Ice Cream &amp; Frozen Yogurt, Fast Food, Burgers,...</td>\n",
       "      <td>{'Monday': '0:0-0:0', 'Tuesday': '6:0-21:0', '...</td>\n",
       "    </tr>\n",
       "    <tr>\n",
       "      <th>4</th>\n",
       "      <td>eEOYSgkmpB90uNA7lDOMRA</td>\n",
       "      <td>Vietnamese Food Truck</td>\n",
       "      <td>NaN</td>\n",
       "      <td>Tampa Bay</td>\n",
       "      <td>FL</td>\n",
       "      <td>33602</td>\n",
       "      <td>27.955269</td>\n",
       "      <td>-82.456320</td>\n",
       "      <td>4.0</td>\n",
       "      <td>10</td>\n",
       "      <td>1</td>\n",
       "      <td>{'Alcohol': \"'none'\", 'OutdoorSeating': 'None'...</td>\n",
       "      <td>Vietnamese, Food, Restaurants, Food Trucks</td>\n",
       "      <td>{'Monday': '11:0-14:0', 'Tuesday': '11:0-14:0'...</td>\n",
       "    </tr>\n",
       "  </tbody>\n",
       "</table>\n",
       "</div>"
      ],
      "text/plain": [
       "              business_id                   name              address  \\\n",
       "0  MTSW4McQd7CbVtyjqoe9mw     St Honore Pastries          935 Race St   \n",
       "1  CF33F8-E6oudUQ46HnavjQ         Sonic Drive-In        615 S Main St   \n",
       "2  k0hlBqXX-Bt0vf1op7Jr1w  Tsevi's Pub And Grill    8025 Mackenzie Rd   \n",
       "3  bBDDEgkFA1Otx9Lfe7BZUQ         Sonic Drive-In  2312 Dickerson Pike   \n",
       "4  eEOYSgkmpB90uNA7lDOMRA  Vietnamese Food Truck                  NaN   \n",
       "\n",
       "           city state postal_code   latitude  longitude  stars  review_count  \\\n",
       "0  Philadelphia    PA       19107  39.955505 -75.155564    4.0            80   \n",
       "1  Ashland City    TN       37015  36.269593 -87.058943    2.0             6   \n",
       "2        Affton    MO       63123  38.565165 -90.321087    3.0            19   \n",
       "3     Nashville    TN       37207  36.208102 -86.768170    1.5            10   \n",
       "4     Tampa Bay    FL       33602  27.955269 -82.456320    4.0            10   \n",
       "\n",
       "   is_open                                         attributes  \\\n",
       "0        1  {'RestaurantsDelivery': 'False', 'OutdoorSeati...   \n",
       "1        1  {'BusinessParking': 'None', 'BusinessAcceptsCr...   \n",
       "2        0  {'Caters': 'True', 'Alcohol': \"u'full_bar'\", '...   \n",
       "3        1  {'RestaurantsAttire': \"'casual'\", 'Restaurants...   \n",
       "4        1  {'Alcohol': \"'none'\", 'OutdoorSeating': 'None'...   \n",
       "\n",
       "                                          categories  \\\n",
       "0  Restaurants, Food, Bubble Tea, Coffee & Tea, B...   \n",
       "1  Burgers, Fast Food, Sandwiches, Food, Ice Crea...   \n",
       "2  Pubs, Restaurants, Italian, Bars, American (Tr...   \n",
       "3  Ice Cream & Frozen Yogurt, Fast Food, Burgers,...   \n",
       "4         Vietnamese, Food, Restaurants, Food Trucks   \n",
       "\n",
       "                                               hours  \n",
       "0  {'Monday': '7:0-20:0', 'Tuesday': '7:0-20:0', ...  \n",
       "1  {'Monday': '0:0-0:0', 'Tuesday': '6:0-22:0', '...  \n",
       "2                                                NaN  \n",
       "3  {'Monday': '0:0-0:0', 'Tuesday': '6:0-21:0', '...  \n",
       "4  {'Monday': '11:0-14:0', 'Tuesday': '11:0-14:0'...  "
      ]
     },
     "execution_count": 90,
     "metadata": {},
     "output_type": "execute_result"
    }
   ],
   "source": [
    "# Preview the datasets\n",
    "# Restaurant Data\n",
    "restaurant_data.head()\n"
   ]
  },
  {
   "cell_type": "code",
   "execution_count": 91,
   "metadata": {},
   "outputs": [
    {
     "name": "stdout",
     "output_type": "stream",
     "text": [
      "<class 'pandas.core.frame.DataFrame'>\n",
      "RangeIndex: 52286 entries, 0 to 52285\n",
      "Data columns (total 14 columns):\n",
      " #   Column        Non-Null Count  Dtype  \n",
      "---  ------        --------------  -----  \n",
      " 0   business_id   52286 non-null  object \n",
      " 1   name          52286 non-null  object \n",
      " 2   address       51843 non-null  object \n",
      " 3   city          52286 non-null  object \n",
      " 4   state         52286 non-null  object \n",
      " 5   postal_code   52265 non-null  object \n",
      " 6   latitude      52286 non-null  float64\n",
      " 7   longitude     52286 non-null  float64\n",
      " 8   stars         52286 non-null  float64\n",
      " 9   review_count  52286 non-null  int64  \n",
      " 10  is_open       52286 non-null  int64  \n",
      " 11  attributes    51720 non-null  object \n",
      " 12  categories    52286 non-null  object \n",
      " 13  hours         45007 non-null  object \n",
      "dtypes: float64(3), int64(2), object(9)\n",
      "memory usage: 5.6+ MB\n"
     ]
    }
   ],
   "source": [
    "restaurant_data.info()"
   ]
  },
  {
   "cell_type": "code",
   "execution_count": 92,
   "metadata": {},
   "outputs": [],
   "source": [
    "# Drop rows with missing attributes\n",
    "restaurant_data.dropna(subset= ['attributes'], inplace= True)\n",
    "\n",
    "# Fill missing values with 'unknown' in multiple columns\n",
    "restaurant_data.fillna( {\n",
    "    'address':'Unknown Address',\n",
    "    'postal_code':'Unknown',\n",
    "    'hours': 'Unavailable'\n",
    "}, inplace= True)\n"
   ]
  },
  {
   "cell_type": "code",
   "execution_count": 93,
   "metadata": {},
   "outputs": [],
   "source": [
    "# Drop latitude and longitude columns as they are not required\n",
    "restaurant_data.drop(columns=['latitude', 'longitude'], inplace=True)\n"
   ]
  },
  {
   "cell_type": "code",
   "execution_count": 94,
   "metadata": {},
   "outputs": [
    {
     "name": "stdout",
     "output_type": "stream",
     "text": [
      "<class 'pandas.core.frame.DataFrame'>\n",
      "Index: 51720 entries, 0 to 52285\n",
      "Data columns (total 12 columns):\n",
      " #   Column        Non-Null Count  Dtype  \n",
      "---  ------        --------------  -----  \n",
      " 0   business_id   51720 non-null  object \n",
      " 1   name          51720 non-null  object \n",
      " 2   address       51720 non-null  object \n",
      " 3   city          51720 non-null  object \n",
      " 4   state         51720 non-null  object \n",
      " 5   postal_code   51720 non-null  object \n",
      " 6   stars         51720 non-null  float64\n",
      " 7   review_count  51720 non-null  int64  \n",
      " 8   is_open       51720 non-null  int64  \n",
      " 9   attributes    51720 non-null  object \n",
      " 10  categories    51720 non-null  object \n",
      " 11  hours         51720 non-null  object \n",
      "dtypes: float64(1), int64(2), object(9)\n",
      "memory usage: 5.1+ MB\n"
     ]
    }
   ],
   "source": [
    "restaurant_data.info()"
   ]
  },
  {
   "cell_type": "markdown",
   "metadata": {},
   "source": [
    "No missing values and 2 columns dropped as they are not required"
   ]
  },
  {
   "cell_type": "code",
   "execution_count": 95,
   "metadata": {},
   "outputs": [
    {
     "data": {
      "text/html": [
       "<div>\n",
       "<style scoped>\n",
       "    .dataframe tbody tr th:only-of-type {\n",
       "        vertical-align: middle;\n",
       "    }\n",
       "\n",
       "    .dataframe tbody tr th {\n",
       "        vertical-align: top;\n",
       "    }\n",
       "\n",
       "    .dataframe thead th {\n",
       "        text-align: right;\n",
       "    }\n",
       "</style>\n",
       "<table border=\"1\" class=\"dataframe\">\n",
       "  <thead>\n",
       "    <tr style=\"text-align: right;\">\n",
       "      <th></th>\n",
       "      <th>Restaurant</th>\n",
       "      <th>Reviewer</th>\n",
       "      <th>Review</th>\n",
       "      <th>Rating</th>\n",
       "      <th>Metadata</th>\n",
       "      <th>Time</th>\n",
       "      <th>Pictures</th>\n",
       "      <th>7514</th>\n",
       "    </tr>\n",
       "  </thead>\n",
       "  <tbody>\n",
       "    <tr>\n",
       "      <th>0</th>\n",
       "      <td>Beyond Flavours</td>\n",
       "      <td>Rusha Chakraborty</td>\n",
       "      <td>The ambience was good, food was quite good . h...</td>\n",
       "      <td>5</td>\n",
       "      <td>1 Review , 2 Followers</td>\n",
       "      <td>5/25/2019 15:54</td>\n",
       "      <td>0</td>\n",
       "      <td>2447.0</td>\n",
       "    </tr>\n",
       "    <tr>\n",
       "      <th>1</th>\n",
       "      <td>Beyond Flavours</td>\n",
       "      <td>Anusha Tirumalaneedi</td>\n",
       "      <td>Ambience is too good for a pleasant evening. S...</td>\n",
       "      <td>5</td>\n",
       "      <td>3 Reviews , 2 Followers</td>\n",
       "      <td>5/25/2019 14:20</td>\n",
       "      <td>0</td>\n",
       "      <td>NaN</td>\n",
       "    </tr>\n",
       "    <tr>\n",
       "      <th>2</th>\n",
       "      <td>Beyond Flavours</td>\n",
       "      <td>Ashok Shekhawat</td>\n",
       "      <td>A must try.. great food great ambience. Thnx f...</td>\n",
       "      <td>5</td>\n",
       "      <td>2 Reviews , 3 Followers</td>\n",
       "      <td>5/24/2019 22:54</td>\n",
       "      <td>0</td>\n",
       "      <td>NaN</td>\n",
       "    </tr>\n",
       "    <tr>\n",
       "      <th>3</th>\n",
       "      <td>Beyond Flavours</td>\n",
       "      <td>Swapnil Sarkar</td>\n",
       "      <td>Soumen das and Arun was a great guy. Only beca...</td>\n",
       "      <td>5</td>\n",
       "      <td>1 Review , 1 Follower</td>\n",
       "      <td>5/24/2019 22:11</td>\n",
       "      <td>0</td>\n",
       "      <td>NaN</td>\n",
       "    </tr>\n",
       "    <tr>\n",
       "      <th>4</th>\n",
       "      <td>Beyond Flavours</td>\n",
       "      <td>Dileep</td>\n",
       "      <td>Food is good.we ordered Kodi drumsticks and ba...</td>\n",
       "      <td>5</td>\n",
       "      <td>3 Reviews , 2 Followers</td>\n",
       "      <td>5/24/2019 21:37</td>\n",
       "      <td>0</td>\n",
       "      <td>NaN</td>\n",
       "    </tr>\n",
       "  </tbody>\n",
       "</table>\n",
       "</div>"
      ],
      "text/plain": [
       "        Restaurant              Reviewer  \\\n",
       "0  Beyond Flavours     Rusha Chakraborty   \n",
       "1  Beyond Flavours  Anusha Tirumalaneedi   \n",
       "2  Beyond Flavours       Ashok Shekhawat   \n",
       "3  Beyond Flavours        Swapnil Sarkar   \n",
       "4  Beyond Flavours                Dileep   \n",
       "\n",
       "                                              Review Rating  \\\n",
       "0  The ambience was good, food was quite good . h...      5   \n",
       "1  Ambience is too good for a pleasant evening. S...      5   \n",
       "2  A must try.. great food great ambience. Thnx f...      5   \n",
       "3  Soumen das and Arun was a great guy. Only beca...      5   \n",
       "4  Food is good.we ordered Kodi drumsticks and ba...      5   \n",
       "\n",
       "                  Metadata             Time  Pictures    7514  \n",
       "0   1 Review , 2 Followers  5/25/2019 15:54         0  2447.0  \n",
       "1  3 Reviews , 2 Followers  5/25/2019 14:20         0     NaN  \n",
       "2  2 Reviews , 3 Followers  5/24/2019 22:54         0     NaN  \n",
       "3    1 Review , 1 Follower  5/24/2019 22:11         0     NaN  \n",
       "4  3 Reviews , 2 Followers  5/24/2019 21:37         0     NaN  "
      ]
     },
     "execution_count": 95,
     "metadata": {},
     "output_type": "execute_result"
    }
   ],
   "source": [
    "review_data.head()"
   ]
  },
  {
   "cell_type": "code",
   "execution_count": 96,
   "metadata": {},
   "outputs": [
    {
     "name": "stdout",
     "output_type": "stream",
     "text": [
      "<class 'pandas.core.frame.DataFrame'>\n",
      "RangeIndex: 10000 entries, 0 to 9999\n",
      "Data columns (total 8 columns):\n",
      " #   Column      Non-Null Count  Dtype  \n",
      "---  ------      --------------  -----  \n",
      " 0   Restaurant  10000 non-null  object \n",
      " 1   Reviewer    9962 non-null   object \n",
      " 2   Review      9955 non-null   object \n",
      " 3   Rating      9962 non-null   object \n",
      " 4   Metadata    9962 non-null   object \n",
      " 5   Time        9962 non-null   object \n",
      " 6   Pictures    10000 non-null  int64  \n",
      " 7   7514        1 non-null      float64\n",
      "dtypes: float64(1), int64(1), object(6)\n",
      "memory usage: 625.1+ KB\n"
     ]
    }
   ],
   "source": [
    "review_data.info()"
   ]
  },
  {
   "cell_type": "code",
   "execution_count": 97,
   "metadata": {},
   "outputs": [],
   "source": [
    "\n",
    "# Dropping the unnecessary columns\n",
    "review_data.drop(columns=['7514','Pictures','Reviewer'], inplace=True)\n"
   ]
  },
  {
   "cell_type": "code",
   "execution_count": 98,
   "metadata": {},
   "outputs": [
    {
     "name": "stdout",
     "output_type": "stream",
     "text": [
      "<class 'pandas.core.frame.DataFrame'>\n",
      "RangeIndex: 10000 entries, 0 to 9999\n",
      "Data columns (total 5 columns):\n",
      " #   Column      Non-Null Count  Dtype \n",
      "---  ------      --------------  ----- \n",
      " 0   Restaurant  10000 non-null  object\n",
      " 1   Review      9955 non-null   object\n",
      " 2   Rating      9962 non-null   object\n",
      " 3   Metadata    9962 non-null   object\n",
      " 4   Time        9962 non-null   object\n",
      "dtypes: object(5)\n",
      "memory usage: 390.8+ KB\n"
     ]
    }
   ],
   "source": [
    "review_data.info()"
   ]
  },
  {
   "cell_type": "code",
   "execution_count": 99,
   "metadata": {},
   "outputs": [],
   "source": [
    "# Dropping rows where r Review is missing \n",
    "review_data.dropna(subset=['Review'], inplace=True)\n",
    "\n",
    "# Filling missing Rating values with a default value \n",
    "review_data['Rating'].fillna('Unknown', inplace=True)\n",
    "review_data['Metadata'].fillna('Unknown', inplace=True)\n",
    "review_data['Time'].fillna('Unknown', inplace=True)\n",
    "\n"
   ]
  },
  {
   "cell_type": "code",
   "execution_count": 100,
   "metadata": {},
   "outputs": [
    {
     "name": "stdout",
     "output_type": "stream",
     "text": [
      "<class 'pandas.core.frame.DataFrame'>\n",
      "Index: 9955 entries, 0 to 9999\n",
      "Data columns (total 5 columns):\n",
      " #   Column      Non-Null Count  Dtype \n",
      "---  ------      --------------  ----- \n",
      " 0   Restaurant  9955 non-null   object\n",
      " 1   Review      9955 non-null   object\n",
      " 2   Rating      9955 non-null   object\n",
      " 3   Metadata    9955 non-null   object\n",
      " 4   Time        9955 non-null   object\n",
      "dtypes: object(5)\n",
      "memory usage: 466.6+ KB\n"
     ]
    }
   ],
   "source": [
    "review_data.info()"
   ]
  },
  {
   "cell_type": "code",
   "execution_count": 101,
   "metadata": {},
   "outputs": [],
   "source": [
    "# Change the name to Restaurant so as to have a common name to merge the datasets\n",
    "restaurant_data.rename(columns={'name': 'Restaurant'}, inplace=True)\n"
   ]
  },
  {
   "cell_type": "code",
   "execution_count": 102,
   "metadata": {},
   "outputs": [
    {
     "data": {
      "text/html": [
       "<div>\n",
       "<style scoped>\n",
       "    .dataframe tbody tr th:only-of-type {\n",
       "        vertical-align: middle;\n",
       "    }\n",
       "\n",
       "    .dataframe tbody tr th {\n",
       "        vertical-align: top;\n",
       "    }\n",
       "\n",
       "    .dataframe thead th {\n",
       "        text-align: right;\n",
       "    }\n",
       "</style>\n",
       "<table border=\"1\" class=\"dataframe\">\n",
       "  <thead>\n",
       "    <tr style=\"text-align: right;\">\n",
       "      <th></th>\n",
       "      <th>Restaurant</th>\n",
       "      <th>Review</th>\n",
       "      <th>Rating</th>\n",
       "      <th>Metadata</th>\n",
       "      <th>Time</th>\n",
       "      <th>business_id</th>\n",
       "      <th>address</th>\n",
       "      <th>city</th>\n",
       "      <th>state</th>\n",
       "      <th>postal_code</th>\n",
       "      <th>stars</th>\n",
       "      <th>review_count</th>\n",
       "      <th>is_open</th>\n",
       "      <th>attributes</th>\n",
       "      <th>categories</th>\n",
       "      <th>hours</th>\n",
       "    </tr>\n",
       "  </thead>\n",
       "  <tbody>\n",
       "    <tr>\n",
       "      <th>0</th>\n",
       "      <td>KFC</td>\n",
       "      <td>Good atmosphere to eat with relax.tastes good....</td>\n",
       "      <td>4</td>\n",
       "      <td>10 Reviews , 1 Follower</td>\n",
       "      <td>5/22/2019 17:21</td>\n",
       "      <td>yFqq66GxRjnhZXPgjA6hnw</td>\n",
       "      <td>716 Adams Ave</td>\n",
       "      <td>Philadelphia</td>\n",
       "      <td>PA</td>\n",
       "      <td>19124</td>\n",
       "      <td>2.0</td>\n",
       "      <td>7</td>\n",
       "      <td>1</td>\n",
       "      <td>{'OutdoorSeating': 'False', 'WiFi': \"'free'\", ...</td>\n",
       "      <td>Restaurants, Chicken Shop, Fast Food, Chicken ...</td>\n",
       "      <td>{'Monday': '10:30-23:0', 'Tuesday': '10:30-23:...</td>\n",
       "    </tr>\n",
       "    <tr>\n",
       "      <th>1</th>\n",
       "      <td>KFC</td>\n",
       "      <td>Good atmosphere to eat with relax.tastes good....</td>\n",
       "      <td>4</td>\n",
       "      <td>10 Reviews , 1 Follower</td>\n",
       "      <td>5/22/2019 17:21</td>\n",
       "      <td>0xe81EigRw_b5W8tg0Ca6Q</td>\n",
       "      <td>8242 Little Rd</td>\n",
       "      <td>New Port Richey</td>\n",
       "      <td>FL</td>\n",
       "      <td>34654</td>\n",
       "      <td>1.5</td>\n",
       "      <td>19</td>\n",
       "      <td>1</td>\n",
       "      <td>{'RestaurantsTakeOut': 'True', 'BusinessAccept...</td>\n",
       "      <td>Fast Food, Chicken Wings, Restaurants, Chicken...</td>\n",
       "      <td>{'Monday': '10:30-23:0', 'Tuesday': '10:30-23:...</td>\n",
       "    </tr>\n",
       "    <tr>\n",
       "      <th>2</th>\n",
       "      <td>KFC</td>\n",
       "      <td>Good atmosphere to eat with relax.tastes good....</td>\n",
       "      <td>4</td>\n",
       "      <td>10 Reviews , 1 Follower</td>\n",
       "      <td>5/22/2019 17:21</td>\n",
       "      <td>nqzOH_1CBGe2VrsxTziuvg</td>\n",
       "      <td>430 S 15th St</td>\n",
       "      <td>Saint Louis</td>\n",
       "      <td>MO</td>\n",
       "      <td>63103</td>\n",
       "      <td>1.5</td>\n",
       "      <td>5</td>\n",
       "      <td>0</td>\n",
       "      <td>{'RestaurantsTakeOut': 'True', 'GoodForKids': ...</td>\n",
       "      <td>Chicken Shop, Chicken Wings, Fast Food, Restau...</td>\n",
       "      <td>Unavailable</td>\n",
       "    </tr>\n",
       "    <tr>\n",
       "      <th>3</th>\n",
       "      <td>KFC</td>\n",
       "      <td>Good atmosphere to eat with relax.tastes good....</td>\n",
       "      <td>4</td>\n",
       "      <td>10 Reviews , 1 Follower</td>\n",
       "      <td>5/22/2019 17:21</td>\n",
       "      <td>a8Q2bvUW6mAiws7xW7cS6g</td>\n",
       "      <td>104 N Pottstown Pike</td>\n",
       "      <td>Exton</td>\n",
       "      <td>PA</td>\n",
       "      <td>19341</td>\n",
       "      <td>1.5</td>\n",
       "      <td>45</td>\n",
       "      <td>1</td>\n",
       "      <td>{'RestaurantsAttire': \"'casual'\", 'Restaurants...</td>\n",
       "      <td>Restaurants, Fast Food, Chicken Wings, Chicken...</td>\n",
       "      <td>{'Monday': '10:30-0:0', 'Tuesday': '10:30-0:0'...</td>\n",
       "    </tr>\n",
       "    <tr>\n",
       "      <th>4</th>\n",
       "      <td>KFC</td>\n",
       "      <td>Good atmosphere to eat with relax.tastes good....</td>\n",
       "      <td>4</td>\n",
       "      <td>10 Reviews , 1 Follower</td>\n",
       "      <td>5/22/2019 17:21</td>\n",
       "      <td>rZZ6gtsqBVkpSLoZ9EZ_1A</td>\n",
       "      <td>3144 Tampa Rd</td>\n",
       "      <td>Oldsmar</td>\n",
       "      <td>FL</td>\n",
       "      <td>34677</td>\n",
       "      <td>1.5</td>\n",
       "      <td>28</td>\n",
       "      <td>0</td>\n",
       "      <td>{'OutdoorSeating': 'False', 'RestaurantsAttire...</td>\n",
       "      <td>Chicken Wings, Chicken Shop, Restaurants, Fast...</td>\n",
       "      <td>{'Monday': '0:0-0:0', 'Tuesday': '10:0-22:0', ...</td>\n",
       "    </tr>\n",
       "  </tbody>\n",
       "</table>\n",
       "</div>"
      ],
      "text/plain": [
       "  Restaurant                                             Review Rating  \\\n",
       "0        KFC  Good atmosphere to eat with relax.tastes good....      4   \n",
       "1        KFC  Good atmosphere to eat with relax.tastes good....      4   \n",
       "2        KFC  Good atmosphere to eat with relax.tastes good....      4   \n",
       "3        KFC  Good atmosphere to eat with relax.tastes good....      4   \n",
       "4        KFC  Good atmosphere to eat with relax.tastes good....      4   \n",
       "\n",
       "                  Metadata             Time             business_id  \\\n",
       "0  10 Reviews , 1 Follower  5/22/2019 17:21  yFqq66GxRjnhZXPgjA6hnw   \n",
       "1  10 Reviews , 1 Follower  5/22/2019 17:21  0xe81EigRw_b5W8tg0Ca6Q   \n",
       "2  10 Reviews , 1 Follower  5/22/2019 17:21  nqzOH_1CBGe2VrsxTziuvg   \n",
       "3  10 Reviews , 1 Follower  5/22/2019 17:21  a8Q2bvUW6mAiws7xW7cS6g   \n",
       "4  10 Reviews , 1 Follower  5/22/2019 17:21  rZZ6gtsqBVkpSLoZ9EZ_1A   \n",
       "\n",
       "                address             city state postal_code  stars  \\\n",
       "0         716 Adams Ave     Philadelphia    PA       19124    2.0   \n",
       "1        8242 Little Rd  New Port Richey    FL       34654    1.5   \n",
       "2         430 S 15th St      Saint Louis    MO       63103    1.5   \n",
       "3  104 N Pottstown Pike            Exton    PA       19341    1.5   \n",
       "4         3144 Tampa Rd          Oldsmar    FL       34677    1.5   \n",
       "\n",
       "   review_count  is_open                                         attributes  \\\n",
       "0             7        1  {'OutdoorSeating': 'False', 'WiFi': \"'free'\", ...   \n",
       "1            19        1  {'RestaurantsTakeOut': 'True', 'BusinessAccept...   \n",
       "2             5        0  {'RestaurantsTakeOut': 'True', 'GoodForKids': ...   \n",
       "3            45        1  {'RestaurantsAttire': \"'casual'\", 'Restaurants...   \n",
       "4            28        0  {'OutdoorSeating': 'False', 'RestaurantsAttire...   \n",
       "\n",
       "                                          categories  \\\n",
       "0  Restaurants, Chicken Shop, Fast Food, Chicken ...   \n",
       "1  Fast Food, Chicken Wings, Restaurants, Chicken...   \n",
       "2  Chicken Shop, Chicken Wings, Fast Food, Restau...   \n",
       "3  Restaurants, Fast Food, Chicken Wings, Chicken...   \n",
       "4  Chicken Wings, Chicken Shop, Restaurants, Fast...   \n",
       "\n",
       "                                               hours  \n",
       "0  {'Monday': '10:30-23:0', 'Tuesday': '10:30-23:...  \n",
       "1  {'Monday': '10:30-23:0', 'Tuesday': '10:30-23:...  \n",
       "2                                        Unavailable  \n",
       "3  {'Monday': '10:30-0:0', 'Tuesday': '10:30-0:0'...  \n",
       "4  {'Monday': '0:0-0:0', 'Tuesday': '10:0-22:0', ...  "
      ]
     },
     "execution_count": 102,
     "metadata": {},
     "output_type": "execute_result"
    }
   ],
   "source": [
    "# Merge the datasets to form one dataset for easier Analysis \n",
    "merged_data = pd.merge(review_data, restaurant_data, on='Restaurant', how='inner')\n",
    "\n",
    "# Preview the merged data\n",
    "merged_data.head()\n"
   ]
  },
  {
   "cell_type": "code",
   "execution_count": 117,
   "metadata": {},
   "outputs": [],
   "source": [
    "# Renaming columns in the merged DataFrame\n",
    "merged_data.rename(columns={\n",
    "    'Rating': 'User rating',  \n",
    "    'stars': 'b/s rating'     \n",
    "}, inplace=True)\n",
    "\n"
   ]
  },
  {
   "cell_type": "code",
   "execution_count": 118,
   "metadata": {},
   "outputs": [
    {
     "name": "stdout",
     "output_type": "stream",
     "text": [
      "<class 'pandas.core.frame.DataFrame'>\n",
      "Index: 46707 entries, 0 to 46706\n",
      "Data columns (total 13 columns):\n",
      " #   Column        Non-Null Count  Dtype  \n",
      "---  ------        --------------  -----  \n",
      " 0   Restaurant    46707 non-null  object \n",
      " 1   Review        46707 non-null  object \n",
      " 2   User rating   46707 non-null  object \n",
      " 3   Metadata      46707 non-null  object \n",
      " 4   Time          46707 non-null  object \n",
      " 5   business_id   46707 non-null  object \n",
      " 6   b/s rating    46707 non-null  float64\n",
      " 7   review_count  46707 non-null  int64  \n",
      " 8   is_open       46707 non-null  int64  \n",
      " 9   attributes    46707 non-null  object \n",
      " 10  categories    46707 non-null  object \n",
      " 11  hours         46707 non-null  object \n",
      " 12  Location      46707 non-null  object \n",
      "dtypes: float64(1), int64(2), object(10)\n",
      "memory usage: 5.0+ MB\n"
     ]
    }
   ],
   "source": [
    "merged_data.info()"
   ]
  },
  {
   "cell_type": "code",
   "execution_count": 148,
   "metadata": {},
   "outputs": [
    {
     "data": {
      "text/plain": [
       "Restaurant      0\n",
       "Review          0\n",
       "User rating     0\n",
       "Metadata        0\n",
       "Time            0\n",
       "business_id     0\n",
       "b/s rating      0\n",
       "review_count    0\n",
       "attributes      0\n",
       "categories      0\n",
       "hours           0\n",
       "Location        0\n",
       "dtype: int64"
      ]
     },
     "execution_count": 148,
     "metadata": {},
     "output_type": "execute_result"
    }
   ],
   "source": [
    "merged_data.isna().sum()"
   ]
  },
  {
   "cell_type": "markdown",
   "metadata": {},
   "source": [
    "No missing values"
   ]
  },
  {
   "cell_type": "code",
   "execution_count": 104,
   "metadata": {},
   "outputs": [
    {
     "data": {
      "text/html": [
       "<div>\n",
       "<style scoped>\n",
       "    .dataframe tbody tr th:only-of-type {\n",
       "        vertical-align: middle;\n",
       "    }\n",
       "\n",
       "    .dataframe tbody tr th {\n",
       "        vertical-align: top;\n",
       "    }\n",
       "\n",
       "    .dataframe thead th {\n",
       "        text-align: right;\n",
       "    }\n",
       "</style>\n",
       "<table border=\"1\" class=\"dataframe\">\n",
       "  <thead>\n",
       "    <tr style=\"text-align: right;\">\n",
       "      <th></th>\n",
       "      <th>stars</th>\n",
       "      <th>review_count</th>\n",
       "      <th>is_open</th>\n",
       "    </tr>\n",
       "  </thead>\n",
       "  <tbody>\n",
       "    <tr>\n",
       "      <th>count</th>\n",
       "      <td>46707.000000</td>\n",
       "      <td>46707.000000</td>\n",
       "      <td>46707.000000</td>\n",
       "    </tr>\n",
       "    <tr>\n",
       "      <th>mean</th>\n",
       "      <td>2.127754</td>\n",
       "      <td>19.717066</td>\n",
       "      <td>0.931680</td>\n",
       "    </tr>\n",
       "    <tr>\n",
       "      <th>std</th>\n",
       "      <td>0.658564</td>\n",
       "      <td>14.865314</td>\n",
       "      <td>0.252296</td>\n",
       "    </tr>\n",
       "    <tr>\n",
       "      <th>min</th>\n",
       "      <td>1.000000</td>\n",
       "      <td>5.000000</td>\n",
       "      <td>0.000000</td>\n",
       "    </tr>\n",
       "    <tr>\n",
       "      <th>25%</th>\n",
       "      <td>1.500000</td>\n",
       "      <td>11.000000</td>\n",
       "      <td>1.000000</td>\n",
       "    </tr>\n",
       "    <tr>\n",
       "      <th>50%</th>\n",
       "      <td>2.000000</td>\n",
       "      <td>15.000000</td>\n",
       "      <td>1.000000</td>\n",
       "    </tr>\n",
       "    <tr>\n",
       "      <th>75%</th>\n",
       "      <td>2.500000</td>\n",
       "      <td>25.000000</td>\n",
       "      <td>1.000000</td>\n",
       "    </tr>\n",
       "    <tr>\n",
       "      <th>max</th>\n",
       "      <td>4.500000</td>\n",
       "      <td>131.000000</td>\n",
       "      <td>1.000000</td>\n",
       "    </tr>\n",
       "  </tbody>\n",
       "</table>\n",
       "</div>"
      ],
      "text/plain": [
       "              stars  review_count       is_open\n",
       "count  46707.000000  46707.000000  46707.000000\n",
       "mean       2.127754     19.717066      0.931680\n",
       "std        0.658564     14.865314      0.252296\n",
       "min        1.000000      5.000000      0.000000\n",
       "25%        1.500000     11.000000      1.000000\n",
       "50%        2.000000     15.000000      1.000000\n",
       "75%        2.500000     25.000000      1.000000\n",
       "max        4.500000    131.000000      1.000000"
      ]
     },
     "execution_count": 104,
     "metadata": {},
     "output_type": "execute_result"
    }
   ],
   "source": [
    "merged_data.describe()"
   ]
  },
  {
   "cell_type": "markdown",
   "metadata": {},
   "source": [
    "Deal with duplicates to avoid misleading insights"
   ]
  },
  {
   "cell_type": "code",
   "execution_count": 105,
   "metadata": {},
   "outputs": [
    {
     "name": "stdout",
     "output_type": "stream",
     "text": [
      "Duplicates: 0\n"
     ]
    }
   ],
   "source": [
    "# Check for Duplicates\n",
    "print('Duplicates:', merged_data.duplicated().sum())"
   ]
  },
  {
   "cell_type": "code",
   "execution_count": 106,
   "metadata": {},
   "outputs": [],
   "source": [
    "# Feature engineer some columns that are similar to each other and have the same function\n",
    "# Combine address columns\n",
    "merged_data['Location'] = merged_data[['city','state','address']]\\\n",
    "                     .apply(lambda x: f\"State: {x['state']}, City: {x['city']}, Address: {x['address']}\", axis = 1)\n",
    "\n",
    "# Drop combined columns\n",
    "merged_data.drop(columns = ['city','state','address','postal_code'], axis= 1, inplace= True)\n"
   ]
  },
  {
   "cell_type": "code",
   "execution_count": 107,
   "metadata": {},
   "outputs": [
    {
     "data": {
      "text/html": [
       "<div>\n",
       "<style scoped>\n",
       "    .dataframe tbody tr th:only-of-type {\n",
       "        vertical-align: middle;\n",
       "    }\n",
       "\n",
       "    .dataframe tbody tr th {\n",
       "        vertical-align: top;\n",
       "    }\n",
       "\n",
       "    .dataframe thead th {\n",
       "        text-align: right;\n",
       "    }\n",
       "</style>\n",
       "<table border=\"1\" class=\"dataframe\">\n",
       "  <thead>\n",
       "    <tr style=\"text-align: right;\">\n",
       "      <th></th>\n",
       "      <th>Restaurant</th>\n",
       "      <th>Review</th>\n",
       "      <th>Rating</th>\n",
       "      <th>Metadata</th>\n",
       "      <th>Time</th>\n",
       "      <th>business_id</th>\n",
       "      <th>stars</th>\n",
       "      <th>review_count</th>\n",
       "      <th>is_open</th>\n",
       "      <th>attributes</th>\n",
       "      <th>categories</th>\n",
       "      <th>hours</th>\n",
       "      <th>Location</th>\n",
       "    </tr>\n",
       "  </thead>\n",
       "  <tbody>\n",
       "    <tr>\n",
       "      <th>0</th>\n",
       "      <td>KFC</td>\n",
       "      <td>Good atmosphere to eat with relax.tastes good....</td>\n",
       "      <td>4</td>\n",
       "      <td>10 Reviews , 1 Follower</td>\n",
       "      <td>5/22/2019 17:21</td>\n",
       "      <td>yFqq66GxRjnhZXPgjA6hnw</td>\n",
       "      <td>2.0</td>\n",
       "      <td>7</td>\n",
       "      <td>1</td>\n",
       "      <td>{'OutdoorSeating': 'False', 'WiFi': \"'free'\", ...</td>\n",
       "      <td>Restaurants, Chicken Shop, Fast Food, Chicken ...</td>\n",
       "      <td>{'Monday': '10:30-23:0', 'Tuesday': '10:30-23:...</td>\n",
       "      <td>State: PA, City: Philadelphia, Address: 716 Ad...</td>\n",
       "    </tr>\n",
       "    <tr>\n",
       "      <th>1</th>\n",
       "      <td>KFC</td>\n",
       "      <td>Good atmosphere to eat with relax.tastes good....</td>\n",
       "      <td>4</td>\n",
       "      <td>10 Reviews , 1 Follower</td>\n",
       "      <td>5/22/2019 17:21</td>\n",
       "      <td>0xe81EigRw_b5W8tg0Ca6Q</td>\n",
       "      <td>1.5</td>\n",
       "      <td>19</td>\n",
       "      <td>1</td>\n",
       "      <td>{'RestaurantsTakeOut': 'True', 'BusinessAccept...</td>\n",
       "      <td>Fast Food, Chicken Wings, Restaurants, Chicken...</td>\n",
       "      <td>{'Monday': '10:30-23:0', 'Tuesday': '10:30-23:...</td>\n",
       "      <td>State: FL, City: New Port Richey, Address: 824...</td>\n",
       "    </tr>\n",
       "    <tr>\n",
       "      <th>2</th>\n",
       "      <td>KFC</td>\n",
       "      <td>Good atmosphere to eat with relax.tastes good....</td>\n",
       "      <td>4</td>\n",
       "      <td>10 Reviews , 1 Follower</td>\n",
       "      <td>5/22/2019 17:21</td>\n",
       "      <td>nqzOH_1CBGe2VrsxTziuvg</td>\n",
       "      <td>1.5</td>\n",
       "      <td>5</td>\n",
       "      <td>0</td>\n",
       "      <td>{'RestaurantsTakeOut': 'True', 'GoodForKids': ...</td>\n",
       "      <td>Chicken Shop, Chicken Wings, Fast Food, Restau...</td>\n",
       "      <td>Unavailable</td>\n",
       "      <td>State: MO, City: Saint Louis, Address: 430 S 1...</td>\n",
       "    </tr>\n",
       "    <tr>\n",
       "      <th>3</th>\n",
       "      <td>KFC</td>\n",
       "      <td>Good atmosphere to eat with relax.tastes good....</td>\n",
       "      <td>4</td>\n",
       "      <td>10 Reviews , 1 Follower</td>\n",
       "      <td>5/22/2019 17:21</td>\n",
       "      <td>a8Q2bvUW6mAiws7xW7cS6g</td>\n",
       "      <td>1.5</td>\n",
       "      <td>45</td>\n",
       "      <td>1</td>\n",
       "      <td>{'RestaurantsAttire': \"'casual'\", 'Restaurants...</td>\n",
       "      <td>Restaurants, Fast Food, Chicken Wings, Chicken...</td>\n",
       "      <td>{'Monday': '10:30-0:0', 'Tuesday': '10:30-0:0'...</td>\n",
       "      <td>State: PA, City: Exton, Address: 104 N Pottsto...</td>\n",
       "    </tr>\n",
       "    <tr>\n",
       "      <th>4</th>\n",
       "      <td>KFC</td>\n",
       "      <td>Good atmosphere to eat with relax.tastes good....</td>\n",
       "      <td>4</td>\n",
       "      <td>10 Reviews , 1 Follower</td>\n",
       "      <td>5/22/2019 17:21</td>\n",
       "      <td>rZZ6gtsqBVkpSLoZ9EZ_1A</td>\n",
       "      <td>1.5</td>\n",
       "      <td>28</td>\n",
       "      <td>0</td>\n",
       "      <td>{'OutdoorSeating': 'False', 'RestaurantsAttire...</td>\n",
       "      <td>Chicken Wings, Chicken Shop, Restaurants, Fast...</td>\n",
       "      <td>{'Monday': '0:0-0:0', 'Tuesday': '10:0-22:0', ...</td>\n",
       "      <td>State: FL, City: Oldsmar, Address: 3144 Tampa Rd</td>\n",
       "    </tr>\n",
       "  </tbody>\n",
       "</table>\n",
       "</div>"
      ],
      "text/plain": [
       "  Restaurant                                             Review Rating  \\\n",
       "0        KFC  Good atmosphere to eat with relax.tastes good....      4   \n",
       "1        KFC  Good atmosphere to eat with relax.tastes good....      4   \n",
       "2        KFC  Good atmosphere to eat with relax.tastes good....      4   \n",
       "3        KFC  Good atmosphere to eat with relax.tastes good....      4   \n",
       "4        KFC  Good atmosphere to eat with relax.tastes good....      4   \n",
       "\n",
       "                  Metadata             Time             business_id  stars  \\\n",
       "0  10 Reviews , 1 Follower  5/22/2019 17:21  yFqq66GxRjnhZXPgjA6hnw    2.0   \n",
       "1  10 Reviews , 1 Follower  5/22/2019 17:21  0xe81EigRw_b5W8tg0Ca6Q    1.5   \n",
       "2  10 Reviews , 1 Follower  5/22/2019 17:21  nqzOH_1CBGe2VrsxTziuvg    1.5   \n",
       "3  10 Reviews , 1 Follower  5/22/2019 17:21  a8Q2bvUW6mAiws7xW7cS6g    1.5   \n",
       "4  10 Reviews , 1 Follower  5/22/2019 17:21  rZZ6gtsqBVkpSLoZ9EZ_1A    1.5   \n",
       "\n",
       "   review_count  is_open                                         attributes  \\\n",
       "0             7        1  {'OutdoorSeating': 'False', 'WiFi': \"'free'\", ...   \n",
       "1            19        1  {'RestaurantsTakeOut': 'True', 'BusinessAccept...   \n",
       "2             5        0  {'RestaurantsTakeOut': 'True', 'GoodForKids': ...   \n",
       "3            45        1  {'RestaurantsAttire': \"'casual'\", 'Restaurants...   \n",
       "4            28        0  {'OutdoorSeating': 'False', 'RestaurantsAttire...   \n",
       "\n",
       "                                          categories  \\\n",
       "0  Restaurants, Chicken Shop, Fast Food, Chicken ...   \n",
       "1  Fast Food, Chicken Wings, Restaurants, Chicken...   \n",
       "2  Chicken Shop, Chicken Wings, Fast Food, Restau...   \n",
       "3  Restaurants, Fast Food, Chicken Wings, Chicken...   \n",
       "4  Chicken Wings, Chicken Shop, Restaurants, Fast...   \n",
       "\n",
       "                                               hours  \\\n",
       "0  {'Monday': '10:30-23:0', 'Tuesday': '10:30-23:...   \n",
       "1  {'Monday': '10:30-23:0', 'Tuesday': '10:30-23:...   \n",
       "2                                        Unavailable   \n",
       "3  {'Monday': '10:30-0:0', 'Tuesday': '10:30-0:0'...   \n",
       "4  {'Monday': '0:0-0:0', 'Tuesday': '10:0-22:0', ...   \n",
       "\n",
       "                                            Location  \n",
       "0  State: PA, City: Philadelphia, Address: 716 Ad...  \n",
       "1  State: FL, City: New Port Richey, Address: 824...  \n",
       "2  State: MO, City: Saint Louis, Address: 430 S 1...  \n",
       "3  State: PA, City: Exton, Address: 104 N Pottsto...  \n",
       "4   State: FL, City: Oldsmar, Address: 3144 Tampa Rd  "
      ]
     },
     "execution_count": 107,
     "metadata": {},
     "output_type": "execute_result"
    }
   ],
   "source": [
    "merged_data.head()"
   ]
  },
  {
   "cell_type": "code",
   "execution_count": 112,
   "metadata": {},
   "outputs": [
    {
     "data": {
      "text/plain": [
       "categories\n",
       "Pizza, Chicken Wings, Restaurants, Sandwiches                                  1683\n",
       "Restaurants, Pizza, Chicken Wings, Sandwiches                                  1683\n",
       "Pizza, Restaurants, Sandwiches, Chicken Wings                                  1584\n",
       "Pizza, Restaurants, Chicken Wings, Sandwiches                                  1485\n",
       "Restaurants, Fast Food, Chicken Wings, Chicken Shop                            1400\n",
       "                                                                               ... \n",
       "Restaurants, Salad, Pizza, Sandwiches, Chicken Wings                             99\n",
       "Pizza, Food Delivery Services, Restaurants, Food, Sandwiches, Chicken Wings      99\n",
       "Italian, Pizza, Chicken Wings, Sandwiches, Restaurants                           99\n",
       "Sandwiches, Chicken Wings, Pizza, Restaurants, Italian                           99\n",
       "Restaurants, Pizza, Italian, Chicken Wings, Sandwiches                           99\n",
       "Name: count, Length: 143, dtype: int64"
      ]
     },
     "execution_count": 112,
     "metadata": {},
     "output_type": "execute_result"
    }
   ],
   "source": [
    "merged_data['categories'].value_counts()"
   ]
  },
  {
   "cell_type": "code",
   "execution_count": 114,
   "metadata": {},
   "outputs": [
    {
     "data": {
      "text/plain": [
       "(46707, 13)"
      ]
     },
     "execution_count": 114,
     "metadata": {},
     "output_type": "execute_result"
    }
   ],
   "source": [
    "# Select restaurants only\n",
    "merged_data= merged_data.loc[merged_data.categories.str.contains('Restaurants')]\n",
    "merged_data.shape"
   ]
  },
  {
   "cell_type": "code",
   "execution_count": 119,
   "metadata": {},
   "outputs": [
    {
     "data": {
      "text/html": [
       "<div>\n",
       "<style scoped>\n",
       "    .dataframe tbody tr th:only-of-type {\n",
       "        vertical-align: middle;\n",
       "    }\n",
       "\n",
       "    .dataframe tbody tr th {\n",
       "        vertical-align: top;\n",
       "    }\n",
       "\n",
       "    .dataframe thead th {\n",
       "        text-align: right;\n",
       "    }\n",
       "</style>\n",
       "<table border=\"1\" class=\"dataframe\">\n",
       "  <thead>\n",
       "    <tr style=\"text-align: right;\">\n",
       "      <th></th>\n",
       "      <th>Restaurant</th>\n",
       "      <th>Review</th>\n",
       "      <th>User rating</th>\n",
       "      <th>Metadata</th>\n",
       "      <th>Time</th>\n",
       "      <th>business_id</th>\n",
       "      <th>b/s rating</th>\n",
       "      <th>review_count</th>\n",
       "      <th>is_open</th>\n",
       "      <th>attributes</th>\n",
       "      <th>categories</th>\n",
       "      <th>hours</th>\n",
       "      <th>Location</th>\n",
       "    </tr>\n",
       "  </thead>\n",
       "  <tbody>\n",
       "    <tr>\n",
       "      <th>0</th>\n",
       "      <td>KFC</td>\n",
       "      <td>Good atmosphere to eat with relax.tastes good....</td>\n",
       "      <td>4</td>\n",
       "      <td>10 Reviews , 1 Follower</td>\n",
       "      <td>5/22/2019 17:21</td>\n",
       "      <td>yFqq66GxRjnhZXPgjA6hnw</td>\n",
       "      <td>2.0</td>\n",
       "      <td>7</td>\n",
       "      <td>1</td>\n",
       "      <td>{'OutdoorSeating': 'False', 'WiFi': \"'free'\", ...</td>\n",
       "      <td>Restaurants, Chicken Shop, Fast Food, Chicken ...</td>\n",
       "      <td>{'Monday': '10:30-23:0', 'Tuesday': '10:30-23:...</td>\n",
       "      <td>State: PA, City: Philadelphia, Address: 716 Ad...</td>\n",
       "    </tr>\n",
       "    <tr>\n",
       "      <th>1</th>\n",
       "      <td>KFC</td>\n",
       "      <td>Good atmosphere to eat with relax.tastes good....</td>\n",
       "      <td>4</td>\n",
       "      <td>10 Reviews , 1 Follower</td>\n",
       "      <td>5/22/2019 17:21</td>\n",
       "      <td>0xe81EigRw_b5W8tg0Ca6Q</td>\n",
       "      <td>1.5</td>\n",
       "      <td>19</td>\n",
       "      <td>1</td>\n",
       "      <td>{'RestaurantsTakeOut': 'True', 'BusinessAccept...</td>\n",
       "      <td>Fast Food, Chicken Wings, Restaurants, Chicken...</td>\n",
       "      <td>{'Monday': '10:30-23:0', 'Tuesday': '10:30-23:...</td>\n",
       "      <td>State: FL, City: New Port Richey, Address: 824...</td>\n",
       "    </tr>\n",
       "    <tr>\n",
       "      <th>2</th>\n",
       "      <td>KFC</td>\n",
       "      <td>Good atmosphere to eat with relax.tastes good....</td>\n",
       "      <td>4</td>\n",
       "      <td>10 Reviews , 1 Follower</td>\n",
       "      <td>5/22/2019 17:21</td>\n",
       "      <td>nqzOH_1CBGe2VrsxTziuvg</td>\n",
       "      <td>1.5</td>\n",
       "      <td>5</td>\n",
       "      <td>0</td>\n",
       "      <td>{'RestaurantsTakeOut': 'True', 'GoodForKids': ...</td>\n",
       "      <td>Chicken Shop, Chicken Wings, Fast Food, Restau...</td>\n",
       "      <td>Unavailable</td>\n",
       "      <td>State: MO, City: Saint Louis, Address: 430 S 1...</td>\n",
       "    </tr>\n",
       "    <tr>\n",
       "      <th>3</th>\n",
       "      <td>KFC</td>\n",
       "      <td>Good atmosphere to eat with relax.tastes good....</td>\n",
       "      <td>4</td>\n",
       "      <td>10 Reviews , 1 Follower</td>\n",
       "      <td>5/22/2019 17:21</td>\n",
       "      <td>a8Q2bvUW6mAiws7xW7cS6g</td>\n",
       "      <td>1.5</td>\n",
       "      <td>45</td>\n",
       "      <td>1</td>\n",
       "      <td>{'RestaurantsAttire': \"'casual'\", 'Restaurants...</td>\n",
       "      <td>Restaurants, Fast Food, Chicken Wings, Chicken...</td>\n",
       "      <td>{'Monday': '10:30-0:0', 'Tuesday': '10:30-0:0'...</td>\n",
       "      <td>State: PA, City: Exton, Address: 104 N Pottsto...</td>\n",
       "    </tr>\n",
       "    <tr>\n",
       "      <th>4</th>\n",
       "      <td>KFC</td>\n",
       "      <td>Good atmosphere to eat with relax.tastes good....</td>\n",
       "      <td>4</td>\n",
       "      <td>10 Reviews , 1 Follower</td>\n",
       "      <td>5/22/2019 17:21</td>\n",
       "      <td>rZZ6gtsqBVkpSLoZ9EZ_1A</td>\n",
       "      <td>1.5</td>\n",
       "      <td>28</td>\n",
       "      <td>0</td>\n",
       "      <td>{'OutdoorSeating': 'False', 'RestaurantsAttire...</td>\n",
       "      <td>Chicken Wings, Chicken Shop, Restaurants, Fast...</td>\n",
       "      <td>{'Monday': '0:0-0:0', 'Tuesday': '10:0-22:0', ...</td>\n",
       "      <td>State: FL, City: Oldsmar, Address: 3144 Tampa Rd</td>\n",
       "    </tr>\n",
       "  </tbody>\n",
       "</table>\n",
       "</div>"
      ],
      "text/plain": [
       "  Restaurant                                             Review User rating  \\\n",
       "0        KFC  Good atmosphere to eat with relax.tastes good....           4   \n",
       "1        KFC  Good atmosphere to eat with relax.tastes good....           4   \n",
       "2        KFC  Good atmosphere to eat with relax.tastes good....           4   \n",
       "3        KFC  Good atmosphere to eat with relax.tastes good....           4   \n",
       "4        KFC  Good atmosphere to eat with relax.tastes good....           4   \n",
       "\n",
       "                  Metadata             Time             business_id  \\\n",
       "0  10 Reviews , 1 Follower  5/22/2019 17:21  yFqq66GxRjnhZXPgjA6hnw   \n",
       "1  10 Reviews , 1 Follower  5/22/2019 17:21  0xe81EigRw_b5W8tg0Ca6Q   \n",
       "2  10 Reviews , 1 Follower  5/22/2019 17:21  nqzOH_1CBGe2VrsxTziuvg   \n",
       "3  10 Reviews , 1 Follower  5/22/2019 17:21  a8Q2bvUW6mAiws7xW7cS6g   \n",
       "4  10 Reviews , 1 Follower  5/22/2019 17:21  rZZ6gtsqBVkpSLoZ9EZ_1A   \n",
       "\n",
       "   b/s rating  review_count  is_open  \\\n",
       "0         2.0             7        1   \n",
       "1         1.5            19        1   \n",
       "2         1.5             5        0   \n",
       "3         1.5            45        1   \n",
       "4         1.5            28        0   \n",
       "\n",
       "                                          attributes  \\\n",
       "0  {'OutdoorSeating': 'False', 'WiFi': \"'free'\", ...   \n",
       "1  {'RestaurantsTakeOut': 'True', 'BusinessAccept...   \n",
       "2  {'RestaurantsTakeOut': 'True', 'GoodForKids': ...   \n",
       "3  {'RestaurantsAttire': \"'casual'\", 'Restaurants...   \n",
       "4  {'OutdoorSeating': 'False', 'RestaurantsAttire...   \n",
       "\n",
       "                                          categories  \\\n",
       "0  Restaurants, Chicken Shop, Fast Food, Chicken ...   \n",
       "1  Fast Food, Chicken Wings, Restaurants, Chicken...   \n",
       "2  Chicken Shop, Chicken Wings, Fast Food, Restau...   \n",
       "3  Restaurants, Fast Food, Chicken Wings, Chicken...   \n",
       "4  Chicken Wings, Chicken Shop, Restaurants, Fast...   \n",
       "\n",
       "                                               hours  \\\n",
       "0  {'Monday': '10:30-23:0', 'Tuesday': '10:30-23:...   \n",
       "1  {'Monday': '10:30-23:0', 'Tuesday': '10:30-23:...   \n",
       "2                                        Unavailable   \n",
       "3  {'Monday': '10:30-0:0', 'Tuesday': '10:30-0:0'...   \n",
       "4  {'Monday': '0:0-0:0', 'Tuesday': '10:0-22:0', ...   \n",
       "\n",
       "                                            Location  \n",
       "0  State: PA, City: Philadelphia, Address: 716 Ad...  \n",
       "1  State: FL, City: New Port Richey, Address: 824...  \n",
       "2  State: MO, City: Saint Louis, Address: 430 S 1...  \n",
       "3  State: PA, City: Exton, Address: 104 N Pottsto...  \n",
       "4   State: FL, City: Oldsmar, Address: 3144 Tampa Rd  "
      ]
     },
     "execution_count": 119,
     "metadata": {},
     "output_type": "execute_result"
    }
   ],
   "source": [
    "merged_data.head()"
   ]
  },
  {
   "cell_type": "markdown",
   "metadata": {},
   "source": [
    "Drop Irrelevant columns"
   ]
  },
  {
   "cell_type": "code",
   "execution_count": 127,
   "metadata": {},
   "outputs": [
    {
     "data": {
      "text/plain": [
       "Index(['Restaurant', 'Review', 'User rating', 'Metadata', 'Time',\n",
       "       'business_id', 'b/s rating', 'review_count', 'attributes', 'categories',\n",
       "       'hours', 'Location'],\n",
       "      dtype='object')"
      ]
     },
     "execution_count": 127,
     "metadata": {},
     "output_type": "execute_result"
    }
   ],
   "source": [
    "# Drop columns\n",
    "D_cols= ['is_open','date']\n",
    "merged_data.drop(columns=D_cols, inplace=True, errors='ignore')\n",
    "\n",
    "# remaining columns\n",
    "merged_data.columns"
   ]
  },
  {
   "cell_type": "code",
   "execution_count": 128,
   "metadata": {},
   "outputs": [
    {
     "name": "stdout",
     "output_type": "stream",
     "text": [
      "<class 'pandas.core.frame.DataFrame'>\n",
      "Index: 46707 entries, 0 to 46706\n",
      "Data columns (total 12 columns):\n",
      " #   Column        Non-Null Count  Dtype  \n",
      "---  ------        --------------  -----  \n",
      " 0   Restaurant    46707 non-null  object \n",
      " 1   Review        46707 non-null  object \n",
      " 2   User rating   46707 non-null  object \n",
      " 3   Metadata      46707 non-null  object \n",
      " 4   Time          46707 non-null  object \n",
      " 5   business_id   46707 non-null  object \n",
      " 6   b/s rating    46707 non-null  float64\n",
      " 7   review_count  46707 non-null  int64  \n",
      " 8   attributes    46707 non-null  object \n",
      " 9   categories    46707 non-null  object \n",
      " 10  hours         46707 non-null  object \n",
      " 11  Location      46707 non-null  object \n",
      "dtypes: float64(1), int64(1), object(10)\n",
      "memory usage: 4.6+ MB\n"
     ]
    }
   ],
   "source": [
    "merged_data.info()"
   ]
  },
  {
   "cell_type": "markdown",
   "metadata": {},
   "source": [
    " # Preprocessing and EDA  for numeric data\n",
    " insert headings\n",
    " Add the one for categorical\n",
    " "
   ]
  },
  {
   "cell_type": "code",
   "execution_count": 129,
   "metadata": {},
   "outputs": [
    {
     "name": "stdout",
     "output_type": "stream",
     "text": [
      "Restaurant       object\n",
      "Review           object\n",
      "User rating     float64\n",
      "Metadata         object\n",
      "Time             object\n",
      "business_id      object\n",
      "b/s rating      float64\n",
      "review_count      int64\n",
      "attributes       object\n",
      "categories       object\n",
      "hours            object\n",
      "Location         object\n",
      "dtype: object\n"
     ]
    }
   ],
   "source": [
    "# Convert to numeric\n",
    "merged_data['User rating'] = pd.to_numeric(merged_data['User rating'], errors='coerce')  \n",
    "merged_data['b/s rating'] = pd.to_numeric(merged_data['b/s rating'], errors='coerce')  \n",
    "\n",
    "# Check the data types after conversion\n",
    "print(merged_data.dtypes)\n"
   ]
  },
  {
   "cell_type": "markdown",
   "metadata": {},
   "source": [
    "## EXPLORATORY DATA ANALYSIS"
   ]
  },
  {
   "cell_type": "code",
   "execution_count": 122,
   "metadata": {},
   "outputs": [],
   "source": [
    "import seaborn as sns\n",
    "import matplotlib.pyplot as plt"
   ]
  },
  {
   "cell_type": "code",
   "execution_count": 136,
   "metadata": {},
   "outputs": [
    {
     "data": {
      "text/html": [
       "<div>\n",
       "<style scoped>\n",
       "    .dataframe tbody tr th:only-of-type {\n",
       "        vertical-align: middle;\n",
       "    }\n",
       "\n",
       "    .dataframe tbody tr th {\n",
       "        vertical-align: top;\n",
       "    }\n",
       "\n",
       "    .dataframe thead th {\n",
       "        text-align: right;\n",
       "    }\n",
       "</style>\n",
       "<table border=\"1\" class=\"dataframe\">\n",
       "  <thead>\n",
       "    <tr style=\"text-align: right;\">\n",
       "      <th></th>\n",
       "      <th>User rating</th>\n",
       "      <th>b/s rating</th>\n",
       "      <th>review_count</th>\n",
       "    </tr>\n",
       "  </thead>\n",
       "  <tbody>\n",
       "    <tr>\n",
       "      <th>count</th>\n",
       "      <td>46707.000000</td>\n",
       "      <td>46707.000000</td>\n",
       "      <td>46707.000000</td>\n",
       "    </tr>\n",
       "    <tr>\n",
       "      <th>mean</th>\n",
       "      <td>2.990216</td>\n",
       "      <td>2.127754</td>\n",
       "      <td>19.717066</td>\n",
       "    </tr>\n",
       "    <tr>\n",
       "      <th>std</th>\n",
       "      <td>1.761280</td>\n",
       "      <td>0.658564</td>\n",
       "      <td>14.865314</td>\n",
       "    </tr>\n",
       "    <tr>\n",
       "      <th>min</th>\n",
       "      <td>1.000000</td>\n",
       "      <td>1.000000</td>\n",
       "      <td>5.000000</td>\n",
       "    </tr>\n",
       "    <tr>\n",
       "      <th>25%</th>\n",
       "      <td>1.000000</td>\n",
       "      <td>1.500000</td>\n",
       "      <td>11.000000</td>\n",
       "    </tr>\n",
       "    <tr>\n",
       "      <th>50%</th>\n",
       "      <td>3.000000</td>\n",
       "      <td>2.000000</td>\n",
       "      <td>15.000000</td>\n",
       "    </tr>\n",
       "    <tr>\n",
       "      <th>75%</th>\n",
       "      <td>5.000000</td>\n",
       "      <td>2.500000</td>\n",
       "      <td>25.000000</td>\n",
       "    </tr>\n",
       "    <tr>\n",
       "      <th>max</th>\n",
       "      <td>5.000000</td>\n",
       "      <td>4.500000</td>\n",
       "      <td>131.000000</td>\n",
       "    </tr>\n",
       "  </tbody>\n",
       "</table>\n",
       "</div>"
      ],
      "text/plain": [
       "        User rating    b/s rating  review_count\n",
       "count  46707.000000  46707.000000  46707.000000\n",
       "mean       2.990216      2.127754     19.717066\n",
       "std        1.761280      0.658564     14.865314\n",
       "min        1.000000      1.000000      5.000000\n",
       "25%        1.000000      1.500000     11.000000\n",
       "50%        3.000000      2.000000     15.000000\n",
       "75%        5.000000      2.500000     25.000000\n",
       "max        5.000000      4.500000    131.000000"
      ]
     },
     "execution_count": 136,
     "metadata": {},
     "output_type": "execute_result"
    }
   ],
   "source": [
    "# Basic statistics of numerical columns \n",
    "merged_data.describe()\n",
    "\n"
   ]
  },
  {
   "cell_type": "code",
   "execution_count": 137,
   "metadata": {},
   "outputs": [
    {
     "name": "stderr",
     "output_type": "stream",
     "text": [
      "c:\\Users\\Administrator\\anaconda3\\Lib\\site-packages\\seaborn\\_oldcore.py:1119: FutureWarning: use_inf_as_na option is deprecated and will be removed in a future version. Convert inf values to NaN before operating instead.\n",
      "  with pd.option_context('mode.use_inf_as_na', True):\n",
      "c:\\Users\\Administrator\\anaconda3\\Lib\\site-packages\\seaborn\\_oldcore.py:1119: FutureWarning: use_inf_as_na option is deprecated and will be removed in a future version. Convert inf values to NaN before operating instead.\n",
      "  with pd.option_context('mode.use_inf_as_na', True):\n"
     ]
    },
    {
     "data": {
      "image/png": "[encoded data removed]",
      "text/plain": [
       "<Figure size 1500x600 with 2 Axes>"
      ]
     },
     "metadata": {},
     "output_type": "display_data"
    }
   ],
   "source": [
    "plt.figure(figsize=(15, 6))\n",
    "plt.subplot(1, 2, 1)\n",
    "sns.histplot(merged_data['User rating'], bins=20, kde=True, color='blue')\n",
    "plt.title('Distribution of User Ratings')\n",
    "plt.xlabel('User Rating')\n",
    "plt.ylabel('Frequency')\n",
    "\n",
    "plt.subplot(1, 2, 2)\n",
    "sns.histplot(merged_data['b/s rating'], bins=20, kde=True, color='green')\n",
    "plt.title('Distribution of Business Ratings')\n",
    "plt.xlabel('Business Rating')\n",
    "plt.ylabel('Frequency')\n",
    "\n",
    "plt.tight_layout()\n",
    "plt.show()\n"
   ]
  },
  {
   "cell_type": "markdown",
   "metadata": {},
   "source": [
    "There are class imbalances so during the Machine learning, consider random sampling or SMOTE"
   ]
  },
  {
   "cell_type": "code",
   "execution_count": 150,
   "metadata": {},
   "outputs": [
    {
     "name": "stderr",
     "output_type": "stream",
     "text": [
      "c:\\Users\\Administrator\\anaconda3\\Lib\\site-packages\\seaborn\\_oldcore.py:1765: FutureWarning: unique with argument that is not not a Series, Index, ExtensionArray, or np.ndarray is deprecated and will raise in a future version.\n",
      "  order = pd.unique(vector)\n"
     ]
    },
    {
     "data": {
      "image/png": "[encoded data removed]",
      "text/plain": [
       "<Figure size 800x500 with 1 Axes>"
      ]
     },
     "metadata": {},
     "output_type": "display_data"
    }
   ],
   "source": [
    "import collections\n",
    "\n",
    "# Use for loops\n",
    "categories = [cat for category in merged_data.drop_duplicates('business_id').categories for cat in category.split(',')]\n",
    "# Count occurrences of each category\n",
    "categories_count = collections.Counter(categories)\n",
    "\n",
    "# Picking the top 10 categories\n",
    "common = categories_count.most_common(10)\n",
    "\n",
    "# Plotting\n",
    "fig, ax = plt.subplots(figsize=(8, 5))\n",
    "x = [i[0] for i in common]  \n",
    "y = [i[1] for i in common]\n",
    "\n",
    "sns.barplot(x=x, y=y, color='tab:green', ax=ax)\n",
    "ax.set_xlabel(\"Categories\")\n",
    "ax.tick_params(axis='x', labelrotation=90)\n",
    "ax.set_ylabel(\"Counts\")\n",
    "# Adjust or remove y-axis limits if needed\n",
    "# ax.set_ylim([0, max(y) + 10])  # Dynamically set limits based on data\n",
    "ax.set_title(\"Top 10 Restaurant Categories\")\n",
    "ax.bar_label(ax.containers[0], padding=3, fmt='{:,}')\n",
    "\n",
    "plt.show()\n"
   ]
  },
  {
   "cell_type": "code",
   "execution_count": 143,
   "metadata": {},
   "outputs": [
    {
     "data": {
      "text/html": [
       "<div>\n",
       "<style scoped>\n",
       "    .dataframe tbody tr th:only-of-type {\n",
       "        vertical-align: middle;\n",
       "    }\n",
       "\n",
       "    .dataframe tbody tr th {\n",
       "        vertical-align: top;\n",
       "    }\n",
       "\n",
       "    .dataframe thead th {\n",
       "        text-align: right;\n",
       "    }\n",
       "</style>\n",
       "<table border=\"1\" class=\"dataframe\">\n",
       "  <thead>\n",
       "    <tr style=\"text-align: right;\">\n",
       "      <th></th>\n",
       "      <th>User rating</th>\n",
       "      <th>b/s rating</th>\n",
       "      <th>review_count</th>\n",
       "    </tr>\n",
       "  </thead>\n",
       "  <tbody>\n",
       "    <tr>\n",
       "      <th>User rating</th>\n",
       "      <td>1.000000</td>\n",
       "      <td>0.018710</td>\n",
       "      <td>0.008009</td>\n",
       "    </tr>\n",
       "    <tr>\n",
       "      <th>b/s rating</th>\n",
       "      <td>0.018710</td>\n",
       "      <td>1.000000</td>\n",
       "      <td>-0.182582</td>\n",
       "    </tr>\n",
       "    <tr>\n",
       "      <th>review_count</th>\n",
       "      <td>0.008009</td>\n",
       "      <td>-0.182582</td>\n",
       "      <td>1.000000</td>\n",
       "    </tr>\n",
       "  </tbody>\n",
       "</table>\n",
       "</div>"
      ],
      "text/plain": [
       "              User rating  b/s rating  review_count\n",
       "User rating      1.000000    0.018710      0.008009\n",
       "b/s rating       0.018710    1.000000     -0.182582\n",
       "review_count     0.008009   -0.182582      1.000000"
      ]
     },
     "execution_count": 143,
     "metadata": {},
     "output_type": "execute_result"
    }
   ],
   "source": [
    "r_data= merged_data[['User rating', 'b/s rating','review_count']]\n",
    "r_data.corr()"
   ]
  },
  {
   "cell_type": "markdown",
   "metadata": {},
   "source": [
    "# Check for multicollinearity\n",
    "Show reasons why im dropping a column\n",
    "preprocess the numeric and preprocess the categorical\n"
   ]
  },
  {
   "cell_type": "code",
   "execution_count": null,
   "metadata": {},
   "outputs": [],
   "source": []
  },
  {
   "cell_type": "code",
   "execution_count": null,
   "metadata": {},
   "outputs": [],
   "source": []
  },
  {
   "cell_type": "code",
   "execution_count": 144,
   "metadata": {},
   "outputs": [
    {
     "data": {
      "image/png": "[encoded data removed]",
      "text/plain": [
       "<Figure size 800x600 with 2 Axes>"
      ]
     },
     "metadata": {},
     "output_type": "display_data"
    }
   ],
   "source": [
    "\n",
    "\n",
    "correlation_matrix = merged_data[['User rating', 'b/s rating', 'review_count']].corr()\n",
    "plt.figure(figsize=(8, 6))\n",
    "sns.heatmap(correlation_matrix, annot=True, fmt=\".2f\", cmap='coolwarm', square=True)\n",
    "plt.title('Correlation Heatmap')\n",
    "plt.show()\n"
   ]
  },
  {
   "cell_type": "markdown",
   "metadata": {},
   "source": [
    "#### User rating vs. b/s rating:\n",
    "\n",
    "Correlation: 0.018710\n",
    "\n",
    " There is a very weak positive correlation between User rating and b/s rating, suggesting that as one rating increases, the other does so slightly but not significantly.\n",
    "\n",
    "#### User rating vs. review_count:\n",
    "\n",
    "Correlation: 0.008009\n",
    "\n",
    " There is virtually no correlation between User rating and review_count, indicating that the number of reviews does not significantly affect the user ratings.\n",
    "\n",
    "#### b/s rating vs. review_count:\n",
    "\n",
    "Correlation: -0.182582\n",
    "\n",
    "There is a weak negative correlation between b/s rating and review_count, which suggests that as the review count increases, the b/s rating tends to decrease slightly."
   ]
  },
  {
   "cell_type": "markdown",
   "metadata": {},
   "source": [
    "### Distribution of Categories\n"
   ]
  },
  {
   "cell_type": "code",
   "execution_count": 146,
   "metadata": {},
   "outputs": [
    {
     "name": "stderr",
     "output_type": "stream",
     "text": [
      "c:\\Users\\Administrator\\anaconda3\\Lib\\site-packages\\seaborn\\_oldcore.py:1765: FutureWarning: unique with argument that is not not a Series, Index, ExtensionArray, or np.ndarray is deprecated and will raise in a future version.\n",
      "  order = pd.unique(vector)\n"
     ]
    },
    {
     "data": {
      "image/png": "[encoded data removed]",
      "text/plain": [
       "<Figure size 800x500 with 1 Axes>"
      ]
     },
     "metadata": {},
     "output_type": "display_data"
    }
   ],
   "source": [
    "import collections\n",
    "categories=[ cat for category in merged_data.drop_duplicates('business_id').categories for cat in category.split(',')]\n",
    "# list of unique categories only\n",
    "categories=collections.Counter(categories)\n",
    "#picking the top 20 categories\n",
    "common=categories.most_common(12)\n",
    "# ploting\n",
    "fig, ax=plt.subplots(figsize=(8,5))\n",
    "x=[ i[0] for i in common[2:]]\n",
    "y=[i[1] for i in common[2:]]\n",
    "sns.barplot(x=x, y=y, color='tab:blue', ax=ax)\n",
    "ax.set_xlabel(\"Categories\")\n",
    "ax.tick_params(axis='x', labelrotation=90)\n",
    "ax.set_ylabel(\"Counts\")\n",
    "ax.set_ylim([300,900])\n",
    "ax.set_title(\"Top 10 Restaurant Categories\");\n",
    "ax.bar_label( ax.containers[0], padding=3, fmt='{:,}');"
   ]
  },
  {
   "cell_type": "code",
   "execution_count": 147,
   "metadata": {},
   "outputs": [
    {
     "data": {
      "text/html": [
       "<div>\n",
       "<style scoped>\n",
       "    .dataframe tbody tr th:only-of-type {\n",
       "        vertical-align: middle;\n",
       "    }\n",
       "\n",
       "    .dataframe tbody tr th {\n",
       "        vertical-align: top;\n",
       "    }\n",
       "\n",
       "    .dataframe thead th {\n",
       "        text-align: right;\n",
       "    }\n",
       "</style>\n",
       "<table border=\"1\" class=\"dataframe\">\n",
       "  <thead>\n",
       "    <tr style=\"text-align: right;\">\n",
       "      <th></th>\n",
       "      <th>Restaurant</th>\n",
       "      <th>Review</th>\n",
       "      <th>User rating</th>\n",
       "      <th>Metadata</th>\n",
       "      <th>Time</th>\n",
       "      <th>business_id</th>\n",
       "      <th>b/s rating</th>\n",
       "      <th>review_count</th>\n",
       "      <th>attributes</th>\n",
       "      <th>categories</th>\n",
       "      <th>hours</th>\n",
       "      <th>Location</th>\n",
       "    </tr>\n",
       "  </thead>\n",
       "  <tbody>\n",
       "    <tr>\n",
       "      <th>0</th>\n",
       "      <td>KFC</td>\n",
       "      <td>Good atmosphere to eat with relax.tastes good....</td>\n",
       "      <td>4.0</td>\n",
       "      <td>10 Reviews , 1 Follower</td>\n",
       "      <td>5/22/2019 17:21</td>\n",
       "      <td>yFqq66GxRjnhZXPgjA6hnw</td>\n",
       "      <td>2.0</td>\n",
       "      <td>7</td>\n",
       "      <td>{'OutdoorSeating': 'False', 'WiFi': \"'free'\", ...</td>\n",
       "      <td>Restaurants, Chicken Shop, Fast Food, Chicken ...</td>\n",
       "      <td>{'Monday': '10:30-23:0', 'Tuesday': '10:30-23:...</td>\n",
       "      <td>State: PA, City: Philadelphia, Address: 716 Ad...</td>\n",
       "    </tr>\n",
       "    <tr>\n",
       "      <th>1</th>\n",
       "      <td>KFC</td>\n",
       "      <td>Good atmosphere to eat with relax.tastes good....</td>\n",
       "      <td>4.0</td>\n",
       "      <td>10 Reviews , 1 Follower</td>\n",
       "      <td>5/22/2019 17:21</td>\n",
       "      <td>0xe81EigRw_b5W8tg0Ca6Q</td>\n",
       "      <td>1.5</td>\n",
       "      <td>19</td>\n",
       "      <td>{'RestaurantsTakeOut': 'True', 'BusinessAccept...</td>\n",
       "      <td>Fast Food, Chicken Wings, Restaurants, Chicken...</td>\n",
       "      <td>{'Monday': '10:30-23:0', 'Tuesday': '10:30-23:...</td>\n",
       "      <td>State: FL, City: New Port Richey, Address: 824...</td>\n",
       "    </tr>\n",
       "    <tr>\n",
       "      <th>2</th>\n",
       "      <td>KFC</td>\n",
       "      <td>Good atmosphere to eat with relax.tastes good....</td>\n",
       "      <td>4.0</td>\n",
       "      <td>10 Reviews , 1 Follower</td>\n",
       "      <td>5/22/2019 17:21</td>\n",
       "      <td>nqzOH_1CBGe2VrsxTziuvg</td>\n",
       "      <td>1.5</td>\n",
       "      <td>5</td>\n",
       "      <td>{'RestaurantsTakeOut': 'True', 'GoodForKids': ...</td>\n",
       "      <td>Chicken Shop, Chicken Wings, Fast Food, Restau...</td>\n",
       "      <td>Unavailable</td>\n",
       "      <td>State: MO, City: Saint Louis, Address: 430 S 1...</td>\n",
       "    </tr>\n",
       "    <tr>\n",
       "      <th>3</th>\n",
       "      <td>KFC</td>\n",
       "      <td>Good atmosphere to eat with relax.tastes good....</td>\n",
       "      <td>4.0</td>\n",
       "      <td>10 Reviews , 1 Follower</td>\n",
       "      <td>5/22/2019 17:21</td>\n",
       "      <td>a8Q2bvUW6mAiws7xW7cS6g</td>\n",
       "      <td>1.5</td>\n",
       "      <td>45</td>\n",
       "      <td>{'RestaurantsAttire': \"'casual'\", 'Restaurants...</td>\n",
       "      <td>Restaurants, Fast Food, Chicken Wings, Chicken...</td>\n",
       "      <td>{'Monday': '10:30-0:0', 'Tuesday': '10:30-0:0'...</td>\n",
       "      <td>State: PA, City: Exton, Address: 104 N Pottsto...</td>\n",
       "    </tr>\n",
       "    <tr>\n",
       "      <th>4</th>\n",
       "      <td>KFC</td>\n",
       "      <td>Good atmosphere to eat with relax.tastes good....</td>\n",
       "      <td>4.0</td>\n",
       "      <td>10 Reviews , 1 Follower</td>\n",
       "      <td>5/22/2019 17:21</td>\n",
       "      <td>rZZ6gtsqBVkpSLoZ9EZ_1A</td>\n",
       "      <td>1.5</td>\n",
       "      <td>28</td>\n",
       "      <td>{'OutdoorSeating': 'False', 'RestaurantsAttire...</td>\n",
       "      <td>Chicken Wings, Chicken Shop, Restaurants, Fast...</td>\n",
       "      <td>{'Monday': '0:0-0:0', 'Tuesday': '10:0-22:0', ...</td>\n",
       "      <td>State: FL, City: Oldsmar, Address: 3144 Tampa Rd</td>\n",
       "    </tr>\n",
       "  </tbody>\n",
       "</table>\n",
       "</div>"
      ],
      "text/plain": [
       "  Restaurant                                             Review  User rating  \\\n",
       "0        KFC  Good atmosphere to eat with relax.tastes good....          4.0   \n",
       "1        KFC  Good atmosphere to eat with relax.tastes good....          4.0   \n",
       "2        KFC  Good atmosphere to eat with relax.tastes good....          4.0   \n",
       "3        KFC  Good atmosphere to eat with relax.tastes good....          4.0   \n",
       "4        KFC  Good atmosphere to eat with relax.tastes good....          4.0   \n",
       "\n",
       "                  Metadata             Time             business_id  \\\n",
       "0  10 Reviews , 1 Follower  5/22/2019 17:21  yFqq66GxRjnhZXPgjA6hnw   \n",
       "1  10 Reviews , 1 Follower  5/22/2019 17:21  0xe81EigRw_b5W8tg0Ca6Q   \n",
       "2  10 Reviews , 1 Follower  5/22/2019 17:21  nqzOH_1CBGe2VrsxTziuvg   \n",
       "3  10 Reviews , 1 Follower  5/22/2019 17:21  a8Q2bvUW6mAiws7xW7cS6g   \n",
       "4  10 Reviews , 1 Follower  5/22/2019 17:21  rZZ6gtsqBVkpSLoZ9EZ_1A   \n",
       "\n",
       "   b/s rating  review_count  \\\n",
       "0         2.0             7   \n",
       "1         1.5            19   \n",
       "2         1.5             5   \n",
       "3         1.5            45   \n",
       "4         1.5            28   \n",
       "\n",
       "                                          attributes  \\\n",
       "0  {'OutdoorSeating': 'False', 'WiFi': \"'free'\", ...   \n",
       "1  {'RestaurantsTakeOut': 'True', 'BusinessAccept...   \n",
       "2  {'RestaurantsTakeOut': 'True', 'GoodForKids': ...   \n",
       "3  {'RestaurantsAttire': \"'casual'\", 'Restaurants...   \n",
       "4  {'OutdoorSeating': 'False', 'RestaurantsAttire...   \n",
       "\n",
       "                                          categories  \\\n",
       "0  Restaurants, Chicken Shop, Fast Food, Chicken ...   \n",
       "1  Fast Food, Chicken Wings, Restaurants, Chicken...   \n",
       "2  Chicken Shop, Chicken Wings, Fast Food, Restau...   \n",
       "3  Restaurants, Fast Food, Chicken Wings, Chicken...   \n",
       "4  Chicken Wings, Chicken Shop, Restaurants, Fast...   \n",
       "\n",
       "                                               hours  \\\n",
       "0  {'Monday': '10:30-23:0', 'Tuesday': '10:30-23:...   \n",
       "1  {'Monday': '10:30-23:0', 'Tuesday': '10:30-23:...   \n",
       "2                                        Unavailable   \n",
       "3  {'Monday': '10:30-0:0', 'Tuesday': '10:30-0:0'...   \n",
       "4  {'Monday': '0:0-0:0', 'Tuesday': '10:0-22:0', ...   \n",
       "\n",
       "                                            Location  \n",
       "0  State: PA, City: Philadelphia, Address: 716 Ad...  \n",
       "1  State: FL, City: New Port Richey, Address: 824...  \n",
       "2  State: MO, City: Saint Louis, Address: 430 S 1...  \n",
       "3  State: PA, City: Exton, Address: 104 N Pottsto...  \n",
       "4   State: FL, City: Oldsmar, Address: 3144 Tampa Rd  "
      ]
     },
     "execution_count": 147,
     "metadata": {},
     "output_type": "execute_result"
    }
   ],
   "source": [
    "merged_data.head()"
   ]
  },
  {
   "cell_type": "code",
   "execution_count": 156,
   "metadata": {},
   "outputs": [
    {
     "name": "stdout",
     "output_type": "stream",
     "text": [
      "        User rating    b/s rating  review_count\n",
      "count  46707.000000  46707.000000  46707.000000\n",
      "mean       2.990216      2.127754     19.717066\n",
      "std        1.761280      0.658564     14.865314\n",
      "min        1.000000      1.000000      5.000000\n",
      "25%        1.000000      1.500000     11.000000\n",
      "50%        3.000000      2.000000     15.000000\n",
      "75%        5.000000      2.500000     25.000000\n",
      "max        5.000000      4.500000    131.000000\n"
     ]
    },
    {
     "name": "stderr",
     "output_type": "stream",
     "text": [
      "c:\\Users\\Administrator\\anaconda3\\Lib\\site-packages\\seaborn\\_oldcore.py:1119: FutureWarning: use_inf_as_na option is deprecated and will be removed in a future version. Convert inf values to NaN before operating instead.\n",
      "  with pd.option_context('mode.use_inf_as_na', True):\n"
     ]
    },
    {
     "data": {
      "image/png": "[encoded data removed]",
      "text/plain": [
       "<Figure size 640x480 with 1 Axes>"
      ]
     },
     "metadata": {},
     "output_type": "display_data"
    }
   ],
   "source": [
    "# Descriptive statistics for numerical columns\n",
    "print(merged_data[['User rating', 'b/s rating', 'review_count']].describe())\n",
    "\n",
    "\n",
    "\n",
    "plt.subplot(1, 2, 2)\n",
    "sns.histplot(merged_data['review_count'], bins=20, kde=True, color='pink')\n",
    "plt.title('Distribution of Review Counts')\n",
    "plt.xlabel('Review Count')\n",
    "plt.ylabel('Frequency')\n",
    "\n",
    "plt.tight_layout()\n",
    "plt.show()\n"
   ]
  },
  {
   "cell_type": "code",
   "execution_count": null,
   "metadata": {},
   "outputs": [],
   "source": []
  }
 ],
 "metadata": {
  "kernelspec": {
   "display_name": "learn-env",
   "language": "python",
   "name": "python3"
  },
  "language_info": {
   "codemirror_mode": {
    "name": "ipython",
    "version": 3
   },
   "file_extension": ".py",
   "mimetype": "text/x-python",
   "name": "python",
   "nbconvert_exporter": "python",
   "pygments_lexer": "ipython3",
   "version": "3.11.7"
  }
 },
 "nbformat": 4,
 "nbformat_minor": 2
}
